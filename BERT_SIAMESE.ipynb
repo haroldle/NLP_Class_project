{
 "cells": [
  {
   "cell_type": "code",
   "execution_count": 32,
   "id": "ad3a39a2",
   "metadata": {},
   "outputs": [],
   "source": [
    "#IMPORTING NECESSARY LIBRARIES\n",
    "import tensorflow as tf\n",
    "import tensorflow_hub as hub\n",
    "import tensorflow_text as text\n",
    "import pandas as pd\n",
    "import numpy as np\n",
    "from sklearn.model_selection import train_test_split\n",
    "from sklearn.metrics import classification_report\n"
   ]
  },
  {
   "cell_type": "code",
   "execution_count": 33,
   "id": "ce4bb02b",
   "metadata": {},
   "outputs": [],
   "source": [
    "# LOADING THE DATASET\n",
    "df = pd.read_csv('preprocessed.csv')\n",
    "labels = df['is_duplicate']\n",
    "corpus = df.loc[:,['question1_non_ascii','question2_non_ascii']]\n",
    "# CREATE TRAIN/VAL/TEST SETS\n",
    "X_train, X_test, y_train, y_test = train_test_split(corpus, labels, test_size=0.3, stratify=labels, random_state=42)\n",
    "X_val, X_test, y_val, y_test = train_test_split(X_test, y_test, test_size=0.5, stratify=y_test, random_state=42)\n"
   ]
  },
  {
   "cell_type": "code",
   "execution_count": 34,
   "id": "54f3f8fa",
   "metadata": {},
   "outputs": [],
   "source": [
    "# DEFINE PROCESSING DATA FUNCTION FOR FASTER TENSORFLOW LOADING\n",
    "# WE ARE CREATING SIAMESE NETWORK. SIAMESE NETWORK NEED TWO DATA INPUTS.\n",
    "# WE ARE CREATING SENTENCE PAIR FOR THE MODEL TO LEARN\n",
    "def process_data(dataFrame, labels):\n",
    "    # GETTING THE FIRST SENTENCE\n",
    "    first_sentence = tf.gather(dataFrame, 0)\n",
    "    # GETTING THE SECOND SENTENCE\n",
    "    second_sentence = tf.gather(dataFrame, 1)\n",
    "    # label = tf.convert_to_tensor(dataFrame['is_duplicate'])\n",
    "    # RETURN THE PAIR WITH THE LABEL\n",
    "    return (first_sentence, second_sentence), labels"
   ]
  },
  {
   "cell_type": "code",
   "execution_count": 36,
   "id": "4863694f",
   "metadata": {},
   "outputs": [],
   "source": [
    "batch = 512\n",
    "# CREATING DATA PIPELINE FOR SIAMESE NETWORK FOR FASTER TRAINING IN TRAINING SET, VALIDATION SET, TEST SET\n",
    "X_train_tf = tf.data.Dataset.from_tensor_slices((X_train, y_train))\n",
    "X_train_tf = (X_train_tf\n",
    "              .map(process_data, num_parallel_calls=tf.data.AUTOTUNE)\n",
    "              .cache()\n",
    "              .batch(batch)\n",
    "              .prefetch(tf.data.AUTOTUNE))\n",
    "X_val_tf = tf.data.Dataset.from_tensor_slices((X_val, y_val))\n",
    "X_val_tf = (X_val_tf\n",
    "            .map(process_data, num_parallel_calls=tf.data.AUTOTUNE)\n",
    "            .cache()\n",
    "            .batch(batch)\n",
    "            .prefetch(tf.data.AUTOTUNE))\n",
    "\n",
    "X_test_tf = tf.data.Dataset.from_tensor_slices((X_test, y_test))\n",
    "X_test_tf = (X_test_tf\n",
    "            .map(process_data, num_parallel_calls=tf.data.AUTOTUNE)\n",
    "             .cache()\n",
    "             .batch(batch)\n",
    "             .prefetch(tf.data.AUTOTUNE))\n"
   ]
  },
  {
   "cell_type": "code",
   "execution_count": 37,
   "id": "444bbd5f",
   "metadata": {},
   "outputs": [],
   "source": [
    "# GETTING THE BERT PROCESS FUNCTION\n",
    "bert_preprocess = hub.KerasLayer('https://tfhub.dev/tensorflow/bert_en_uncased_preprocess/3')\n",
    "# GETTING THE BERT ENCODER FUNCTION FOR TEXT FEATURE EXTRACTION\n",
    "bert_encoder = hub.KerasLayer('https://tfhub.dev/tensorflow/bert_en_uncased_L-12_H-768_A-12/4')"
   ]
  },
  {
   "cell_type": "code",
   "execution_count": 38,
   "id": "72faa513",
   "metadata": {},
   "outputs": [],
   "source": [
    "# CREATE BERT EXTRACTOR LAYER\n",
    "def bert_extractor(input_layer):\n",
    "    preprocessed = bert_preprocess(input_layer)\n",
    "    return bert_encoder(preprocessed)\n",
    "# CREATE COSINE SIMILARITY DISTANCE CALCULATION LAYER\n",
    "class cosine_dist_layer(tf.keras.layers.Layer):\n",
    "    def __init__(self):\n",
    "        super(cosine_dist_layer, self).__init__()\n",
    "\n",
    "    def call(self, inputs):\n",
    "        featsA, featsB = inputs\n",
    "        A = tf.math.l2_normalize(featsA, axis = 1)\n",
    "        B = tf.math.l2_normalize(featsB, axis = 1)\n",
    "        return tf.math.maximum(tf.reduce_sum(tf.math.multiply(A, B), keepdims=True, axis=1), tf.keras.backend.epsilon())\n"
   ]
  },
  {
   "cell_type": "code",
   "execution_count": 39,
   "id": "f8ce3546",
   "metadata": {},
   "outputs": [],
   "source": [
    "# INITIALIZE ALL INPUTS FOR SIAMESE NETWORK\n",
    "first_input = tf.keras.layers.Input(shape=(), dtype=tf.string, name=\"first_sentence\")\n",
    "second_input = tf.keras.layers.Input(shape=(), dtype=tf.string, name=\"second_sentence\")\n",
    "# EXTRACTING TEXT FEATURES FROM BERT ENCODER\n",
    "bert_extr_first_sent = bert_extractor(first_input)\n",
    "bert_extr_second_sent = bert_extractor(first_input)\n",
    "# SETTING THE COSINE SIMILARITY FOR CALCULATING THE SIMILARITY BETWEEN TWO TEXT FEATURES\n",
    "cosine_dist = cosine_dist_layer()\n",
    "\n",
    "distLayer = cosine_dist([bert_extr_first_sent['pooled_output'], bert_extr_second_sent['pooled_output']])\n",
    "# INITIALIZE THE OUTPUT TO LEARN THE DISTANCE VALUE\n",
    "output = tf.keras.layers.Dense(1, activation=\"sigmoid\")(distLayer)\n",
    "# CREATE SIAMESE NETWORK\n",
    "siamese_model = tf.keras.Model(inputs=[first_input, second_input], outputs=output)\n",
    "# SET THE LOSS, OPTIMIIZER, AND METRICS\n",
    "siamese_model.compile(loss=\"binary_crossentropy\", optimizer=\"adam\", metrics=\"accuracy\")\n",
    "# SET CHECKPOINT FOR SAVING THE DL MODEL.\n",
    "checkpoint_filepath = '/home/thanhle/Downloads/feature_engineering_class_project/checkpoints/contrasitive_Model' \\\n",
    "                          '.hdf5'\n",
    "\n",
    "model_checkpoint_callback = tf.keras.callbacks.ModelCheckpoint(\n",
    "        filepath=checkpoint_filepath,\n",
    "        save_weights_only=True,\n",
    "        monitor='val_accuracy',\n",
    "        mode='max',\n",
    "        save_best_only=True)"
   ]
  },
  {
   "cell_type": "code",
   "execution_count": 40,
   "outputs": [
    {
     "name": "stdout",
     "output_type": "stream",
     "text": [
      "Model: \"model_2\"\n",
      "__________________________________________________________________________________________________\n",
      " Layer (type)                   Output Shape         Param #     Connected to                     \n",
      "==================================================================================================\n",
      " first_sentence (InputLayer)    [(None,)]            0           []                               \n",
      "                                                                                                  \n",
      " keras_layer_4 (KerasLayer)     {'input_mask': (Non  0           ['first_sentence[0][0]',         \n",
      "                                e, 128),                          'first_sentence[0][0]']         \n",
      "                                 'input_type_ids':                                                \n",
      "                                (None, 128),                                                      \n",
      "                                 'input_word_ids':                                                \n",
      "                                (None, 128)}                                                      \n",
      "                                                                                                  \n",
      " keras_layer_5 (KerasLayer)     {'pooled_output': (  109482241   ['keras_layer_4[0][0]',          \n",
      "                                None, 768),                       'keras_layer_4[0][1]',          \n",
      "                                 'default': (None,                'keras_layer_4[0][2]',          \n",
      "                                768),                             'keras_layer_4[1][0]',          \n",
      "                                 'encoder_outputs':               'keras_layer_4[1][1]',          \n",
      "                                 [(None, 128, 768),               'keras_layer_4[1][2]']          \n",
      "                                 (None, 128, 768),                                                \n",
      "                                 (None, 128, 768),                                                \n",
      "                                 (None, 128, 768),                                                \n",
      "                                 (None, 128, 768),                                                \n",
      "                                 (None, 128, 768),                                                \n",
      "                                 (None, 128, 768),                                                \n",
      "                                 (None, 128, 768),                                                \n",
      "                                 (None, 128, 768),                                                \n",
      "                                 (None, 128, 768),                                                \n",
      "                                 (None, 128, 768),                                                \n",
      "                                 (None, 128, 768)],                                               \n",
      "                                 'sequence_output':                                               \n",
      "                                 (None, 128, 768)}                                                \n",
      "                                                                                                  \n",
      " cosine_dist_layer_2 (cosine_di  (None, 1)           0           ['keras_layer_5[0][13]',         \n",
      " st_layer)                                                        'keras_layer_5[1][13]']         \n",
      "                                                                                                  \n",
      " second_sentence (InputLayer)   [(None,)]            0           []                               \n",
      "                                                                                                  \n",
      " dense_2 (Dense)                (None, 1)            2           ['cosine_dist_layer_2[0][0]']    \n",
      "                                                                                                  \n",
      "==================================================================================================\n",
      "Total params: 109,482,243\n",
      "Trainable params: 2\n",
      "Non-trainable params: 109,482,241\n",
      "__________________________________________________________________________________________________\n"
     ]
    }
   ],
   "source": [
    "# GET THE LAYERS IN THE SIAMESE MODEL\n",
    "siamese_model.summary()"
   ],
   "metadata": {
    "collapsed": false
   }
  },
  {
   "cell_type": "code",
   "execution_count": 41,
   "id": "450d265f",
   "metadata": {},
   "outputs": [
    {
     "name": "stdout",
     "output_type": "stream",
     "text": [
      "Epoch 1/2\n",
      "553/553 [==============================] - 10861s 20s/step - loss: 0.6885 - accuracy: 0.5397 - val_loss: 0.6611 - val_accuracy: 0.6308\n",
      "Epoch 2/2\n",
      "553/553 [==============================] - 10871s 20s/step - loss: 0.6590 - accuracy: 0.6308 - val_loss: 0.6585 - val_accuracy: 0.6308\n"
     ]
    },
    {
     "data": {
      "text/plain": "<keras.callbacks.History at 0x7f29ca3b1070>"
     },
     "execution_count": 41,
     "metadata": {},
     "output_type": "execute_result"
    }
   ],
   "source": [
    "# TRAIN THE SIAMESE MODEL\n",
    "siamese_model.fit(X_train_tf, validation_data=X_val_tf, epochs=2, callbacks=[model_checkpoint_callback])"
   ]
  },
  {
   "cell_type": "code",
   "execution_count": 43,
   "id": "5e99ceb0",
   "metadata": {},
   "outputs": [
    {
     "name": "stdout",
     "output_type": "stream",
     "text": [
      "119/119 [==============================] - 1976s 17s/step\n"
     ]
    }
   ],
   "source": [
    "# GET THE MODEL PREDICTION\n",
    "model_prediction_result = siamese_model.predict(X_test_tf)"
   ]
  },
  {
   "cell_type": "code",
   "execution_count": 54,
   "outputs": [],
   "source": [
    "# BECAUSE THE OUTPUT IS USING SIGMOID => THE PREDICTION IS IN THE RANGE FROM 0 TO 1  SO WE SET A THRESHOLD IF ANYTHING > 0.5 IT WILL BE LABELLED TO 1 AND <= 0.5 WILL BE LABELLED TO 0\n",
    "prediction = (model_prediction_result > 0.5).astype(int)"
   ],
   "metadata": {
    "collapsed": false
   }
  },
  {
   "cell_type": "code",
   "execution_count": 77,
   "outputs": [],
   "source": [
    "# COUNTING ALL CORRECT PREDICTION\n",
    "corrected = prediction == y_test.to_numpy().transpose()"
   ],
   "metadata": {
    "collapsed": false
   }
  },
  {
   "cell_type": "code",
   "execution_count": 81,
   "outputs": [
    {
     "data": {
      "text/plain": "0.6307961216278609"
     },
     "execution_count": 81,
     "metadata": {},
     "output_type": "execute_result"
    }
   ],
   "source": [
    "# GETTING THE ACCURACY (CORRECTED / TOTAL SAMPLES)\n",
    "np.count_nonzero(corrected[0]) / len(corrected[0])"
   ],
   "metadata": {
    "collapsed": false
   }
  }
 ],
 "metadata": {
  "kernelspec": {
   "display_name": "Python 3 (ipykernel)",
   "language": "python",
   "name": "python3"
  },
  "language_info": {
   "codemirror_mode": {
    "name": "ipython",
    "version": 3
   },
   "file_extension": ".py",
   "mimetype": "text/x-python",
   "name": "python",
   "nbconvert_exporter": "python",
   "pygments_lexer": "ipython3",
   "version": "3.8.10"
  }
 },
 "nbformat": 4,
 "nbformat_minor": 5
}
