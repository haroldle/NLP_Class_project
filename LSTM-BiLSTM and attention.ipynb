{
  "cells": [
    {
      "cell_type": "code",
      "execution_count": 1,
      "id": "1fb0134b",
      "metadata": {
        "id": "1fb0134b"
      },
      "outputs": [],
      "source": [
        "import pandas as pd"
      ]
    },
    {
      "cell_type": "code",
      "execution_count": 2,
      "id": "e761dda7",
      "metadata": {
        "id": "e761dda7"
      },
      "outputs": [],
      "source": [
        "df = pd.read_csv('/content/train.csv.zip')"
      ]
    },
    {
      "cell_type": "code",
      "execution_count": 3,
      "id": "68f08b4c",
      "metadata": {
        "id": "68f08b4c"
      },
      "outputs": [],
      "source": [
        "df = df.dropna()"
      ]
    },
    {
      "cell_type": "code",
      "execution_count": null,
      "id": "6dff95a0",
      "metadata": {
        "colab": {
          "base_uri": "https://localhost:8080/",
          "height": 172
        },
        "id": "6dff95a0",
        "outputId": "31b3e92b-82dc-4b43-bf5d-a58b7134dd28"
      },
      "outputs": [
        {
          "output_type": "execute_result",
          "data": {
            "text/plain": [
              "   id  qid1  qid2                                          question1  \\\n",
              "0   0     1     2  What is the step by step guide to invest in sh...   \n",
              "1   1     3     4  What is the story of Kohinoor (Koh-i-Noor) Dia...   \n",
              "2   2     5     6  How can I increase the speed of my internet co...   \n",
              "3   3     7     8  Why am I mentally very lonely? How can I solve...   \n",
              "4   4     9    10  Which one dissolve in water quikly sugar, salt...   \n",
              "\n",
              "                                           question2  is_duplicate  \n",
              "0  What is the step by step guide to invest in sh...             0  \n",
              "1  What would happen if the Indian government sto...             0  \n",
              "2  How can Internet speed be increased by hacking...             0  \n",
              "3  Find the remainder when [math]23^{24}[/math] i...             0  \n",
              "4            Which fish would survive in salt water?             0  "
            ],
            "text/html": [
              "\n",
              "  <div id=\"df-2072c2f8-e081-46d8-8cc9-3ac1f9d594c1\">\n",
              "    <div class=\"colab-df-container\">\n",
              "      <div>\n",
              "<style scoped>\n",
              "    .dataframe tbody tr th:only-of-type {\n",
              "        vertical-align: middle;\n",
              "    }\n",
              "\n",
              "    .dataframe tbody tr th {\n",
              "        vertical-align: top;\n",
              "    }\n",
              "\n",
              "    .dataframe thead th {\n",
              "        text-align: right;\n",
              "    }\n",
              "</style>\n",
              "<table border=\"1\" class=\"dataframe\">\n",
              "  <thead>\n",
              "    <tr style=\"text-align: right;\">\n",
              "      <th></th>\n",
              "      <th>id</th>\n",
              "      <th>qid1</th>\n",
              "      <th>qid2</th>\n",
              "      <th>question1</th>\n",
              "      <th>question2</th>\n",
              "      <th>is_duplicate</th>\n",
              "    </tr>\n",
              "  </thead>\n",
              "  <tbody>\n",
              "    <tr>\n",
              "      <th>0</th>\n",
              "      <td>0</td>\n",
              "      <td>1</td>\n",
              "      <td>2</td>\n",
              "      <td>What is the step by step guide to invest in sh...</td>\n",
              "      <td>What is the step by step guide to invest in sh...</td>\n",
              "      <td>0</td>\n",
              "    </tr>\n",
              "    <tr>\n",
              "      <th>1</th>\n",
              "      <td>1</td>\n",
              "      <td>3</td>\n",
              "      <td>4</td>\n",
              "      <td>What is the story of Kohinoor (Koh-i-Noor) Dia...</td>\n",
              "      <td>What would happen if the Indian government sto...</td>\n",
              "      <td>0</td>\n",
              "    </tr>\n",
              "    <tr>\n",
              "      <th>2</th>\n",
              "      <td>2</td>\n",
              "      <td>5</td>\n",
              "      <td>6</td>\n",
              "      <td>How can I increase the speed of my internet co...</td>\n",
              "      <td>How can Internet speed be increased by hacking...</td>\n",
              "      <td>0</td>\n",
              "    </tr>\n",
              "    <tr>\n",
              "      <th>3</th>\n",
              "      <td>3</td>\n",
              "      <td>7</td>\n",
              "      <td>8</td>\n",
              "      <td>Why am I mentally very lonely? How can I solve...</td>\n",
              "      <td>Find the remainder when [math]23^{24}[/math] i...</td>\n",
              "      <td>0</td>\n",
              "    </tr>\n",
              "    <tr>\n",
              "      <th>4</th>\n",
              "      <td>4</td>\n",
              "      <td>9</td>\n",
              "      <td>10</td>\n",
              "      <td>Which one dissolve in water quikly sugar, salt...</td>\n",
              "      <td>Which fish would survive in salt water?</td>\n",
              "      <td>0</td>\n",
              "    </tr>\n",
              "  </tbody>\n",
              "</table>\n",
              "</div>\n",
              "      <button class=\"colab-df-convert\" onclick=\"convertToInteractive('df-2072c2f8-e081-46d8-8cc9-3ac1f9d594c1')\"\n",
              "              title=\"Convert this dataframe to an interactive table.\"\n",
              "              style=\"display:none;\">\n",
              "        \n",
              "  <svg xmlns=\"http://www.w3.org/2000/svg\" height=\"24px\"viewBox=\"0 0 24 24\"\n",
              "       width=\"24px\">\n",
              "    <path d=\"M0 0h24v24H0V0z\" fill=\"none\"/>\n",
              "    <path d=\"M18.56 5.44l.94 2.06.94-2.06 2.06-.94-2.06-.94-.94-2.06-.94 2.06-2.06.94zm-11 1L8.5 8.5l.94-2.06 2.06-.94-2.06-.94L8.5 2.5l-.94 2.06-2.06.94zm10 10l.94 2.06.94-2.06 2.06-.94-2.06-.94-.94-2.06-.94 2.06-2.06.94z\"/><path d=\"M17.41 7.96l-1.37-1.37c-.4-.4-.92-.59-1.43-.59-.52 0-1.04.2-1.43.59L10.3 9.45l-7.72 7.72c-.78.78-.78 2.05 0 2.83L4 21.41c.39.39.9.59 1.41.59.51 0 1.02-.2 1.41-.59l7.78-7.78 2.81-2.81c.8-.78.8-2.07 0-2.86zM5.41 20L4 18.59l7.72-7.72 1.47 1.35L5.41 20z\"/>\n",
              "  </svg>\n",
              "      </button>\n",
              "      \n",
              "  <style>\n",
              "    .colab-df-container {\n",
              "      display:flex;\n",
              "      flex-wrap:wrap;\n",
              "      gap: 12px;\n",
              "    }\n",
              "\n",
              "    .colab-df-convert {\n",
              "      background-color: #E8F0FE;\n",
              "      border: none;\n",
              "      border-radius: 50%;\n",
              "      cursor: pointer;\n",
              "      display: none;\n",
              "      fill: #1967D2;\n",
              "      height: 32px;\n",
              "      padding: 0 0 0 0;\n",
              "      width: 32px;\n",
              "    }\n",
              "\n",
              "    .colab-df-convert:hover {\n",
              "      background-color: #E2EBFA;\n",
              "      box-shadow: 0px 1px 2px rgba(60, 64, 67, 0.3), 0px 1px 3px 1px rgba(60, 64, 67, 0.15);\n",
              "      fill: #174EA6;\n",
              "    }\n",
              "\n",
              "    [theme=dark] .colab-df-convert {\n",
              "      background-color: #3B4455;\n",
              "      fill: #D2E3FC;\n",
              "    }\n",
              "\n",
              "    [theme=dark] .colab-df-convert:hover {\n",
              "      background-color: #434B5C;\n",
              "      box-shadow: 0px 1px 3px 1px rgba(0, 0, 0, 0.15);\n",
              "      filter: drop-shadow(0px 1px 2px rgba(0, 0, 0, 0.3));\n",
              "      fill: #FFFFFF;\n",
              "    }\n",
              "  </style>\n",
              "\n",
              "      <script>\n",
              "        const buttonEl =\n",
              "          document.querySelector('#df-2072c2f8-e081-46d8-8cc9-3ac1f9d594c1 button.colab-df-convert');\n",
              "        buttonEl.style.display =\n",
              "          google.colab.kernel.accessAllowed ? 'block' : 'none';\n",
              "\n",
              "        async function convertToInteractive(key) {\n",
              "          const element = document.querySelector('#df-2072c2f8-e081-46d8-8cc9-3ac1f9d594c1');\n",
              "          const dataTable =\n",
              "            await google.colab.kernel.invokeFunction('convertToInteractive',\n",
              "                                                     [key], {});\n",
              "          if (!dataTable) return;\n",
              "\n",
              "          const docLinkHtml = 'Like what you see? Visit the ' +\n",
              "            '<a target=\"_blank\" href=https://colab.research.google.com/notebooks/data_table.ipynb>data table notebook</a>'\n",
              "            + ' to learn more about interactive tables.';\n",
              "          element.innerHTML = '';\n",
              "          dataTable['output_type'] = 'display_data';\n",
              "          await google.colab.output.renderOutput(dataTable, element);\n",
              "          const docLink = document.createElement('div');\n",
              "          docLink.innerHTML = docLinkHtml;\n",
              "          element.appendChild(docLink);\n",
              "        }\n",
              "      </script>\n",
              "    </div>\n",
              "  </div>\n",
              "  "
            ]
          },
          "metadata": {},
          "execution_count": 4
        }
      ],
      "source": [
        "df.head(5)"
      ]
    },
    {
      "cell_type": "code",
      "execution_count": 4,
      "id": "b1ca25a8",
      "metadata": {
        "colab": {
          "base_uri": "https://localhost:8080/"
        },
        "id": "b1ca25a8",
        "outputId": "d7a30855-41e6-4390-b30c-11f1a0081279"
      },
      "outputs": [
        {
          "output_type": "execute_result",
          "data": {
            "text/plain": [
              "array([0, 1])"
            ]
          },
          "metadata": {},
          "execution_count": 4
        }
      ],
      "source": [
        "df.is_duplicate.unique()"
      ]
    },
    {
      "cell_type": "markdown",
      "id": "9dd0a30e",
      "metadata": {
        "id": "9dd0a30e"
      },
      "source": [
        "# VISUALIZE WHAT IS IS_DUPLICATE"
      ]
    },
    {
      "cell_type": "markdown",
      "id": "2c91955a",
      "metadata": {
        "id": "2c91955a"
      },
      "source": [
        "### NOT DUPLICATE"
      ]
    },
    {
      "cell_type": "code",
      "execution_count": 5,
      "id": "668b6f6f",
      "metadata": {
        "colab": {
          "base_uri": "https://localhost:8080/",
          "height": 34
        },
        "id": "668b6f6f",
        "outputId": "67a6b7d5-d2c5-454b-afb9-500211eda051"
      },
      "outputs": [
        {
          "output_type": "execute_result",
          "data": {
            "text/plain": [
              "'What is the step by step guide to invest in share market in india?'"
            ],
            "application/vnd.google.colaboratory.intrinsic+json": {
              "type": "string"
            }
          },
          "metadata": {},
          "execution_count": 5
        }
      ],
      "source": [
        "df.question1[0]"
      ]
    },
    {
      "cell_type": "code",
      "execution_count": 6,
      "id": "ab1701e5",
      "metadata": {
        "colab": {
          "base_uri": "https://localhost:8080/",
          "height": 34
        },
        "id": "ab1701e5",
        "outputId": "608759ef-1ef3-49b8-e807-436cb4b59e17"
      },
      "outputs": [
        {
          "output_type": "execute_result",
          "data": {
            "text/plain": [
              "'What is the step by step guide to invest in share market?'"
            ],
            "application/vnd.google.colaboratory.intrinsic+json": {
              "type": "string"
            }
          },
          "metadata": {},
          "execution_count": 6
        }
      ],
      "source": [
        "df.question2[0]"
      ]
    },
    {
      "cell_type": "markdown",
      "id": "e8191124",
      "metadata": {
        "id": "e8191124"
      },
      "source": [
        "### DUPLICATE"
      ]
    },
    {
      "cell_type": "code",
      "execution_count": 7,
      "id": "94b14244",
      "metadata": {
        "colab": {
          "base_uri": "https://localhost:8080/",
          "height": 34
        },
        "id": "94b14244",
        "outputId": "3a3954ed-3333-49a1-d5a7-50a6f5f5bbe1"
      },
      "outputs": [
        {
          "output_type": "execute_result",
          "data": {
            "text/plain": [
              "\"I'm a triple Capricorn (Sun, Moon and ascendant in Capricorn) What does this say about me?\""
            ],
            "application/vnd.google.colaboratory.intrinsic+json": {
              "type": "string"
            }
          },
          "metadata": {},
          "execution_count": 7
        }
      ],
      "source": [
        "df.loc[df['is_duplicate'] == 1].iloc[0].question2"
      ]
    },
    {
      "cell_type": "code",
      "execution_count": 8,
      "id": "37d67784",
      "metadata": {
        "colab": {
          "base_uri": "https://localhost:8080/",
          "height": 34
        },
        "id": "37d67784",
        "outputId": "3852260b-c1d2-4183-fe26-f78dcb19ca45"
      },
      "outputs": [
        {
          "output_type": "execute_result",
          "data": {
            "text/plain": [
              "'Astrology: I am a Capricorn Sun Cap moon and cap rising...what does that say about me?'"
            ],
            "application/vnd.google.colaboratory.intrinsic+json": {
              "type": "string"
            }
          },
          "metadata": {},
          "execution_count": 8
        }
      ],
      "source": [
        "df.loc[df['is_duplicate'] == 1].iloc[0].question1"
      ]
    },
    {
      "cell_type": "markdown",
      "id": "87665da7",
      "metadata": {
        "id": "87665da7"
      },
      "source": [
        "# DATA CLEANSING"
      ]
    },
    {
      "cell_type": "markdown",
      "id": "03c3a1da",
      "metadata": {
        "id": "03c3a1da"
      },
      "source": [
        "### REMOVE NON-ASCII CHARACTERS"
      ]
    },
    {
      "cell_type": "code",
      "execution_count": 9,
      "id": "7dc1ef7d",
      "metadata": {
        "id": "7dc1ef7d"
      },
      "outputs": [],
      "source": [
        "import re\n",
        "def remove_non_ascii(text):\n",
        "    return str(re.sub(r'[^\\x00-\\x7F]+',' ', str(text)))\n",
        "    "
      ]
    },
    {
      "cell_type": "code",
      "execution_count": 10,
      "id": "8eaef8aa",
      "metadata": {
        "id": "8eaef8aa"
      },
      "outputs": [],
      "source": [
        "df['question1_non_ascii'] = df['question1'].apply(lambda x: remove_non_ascii(x))\n",
        "df['question2_non_ascii'] = df['question2'].apply(lambda x: remove_non_ascii(x))\n"
      ]
    },
    {
      "cell_type": "code",
      "execution_count": null,
      "id": "e01e0433",
      "metadata": {
        "colab": {
          "base_uri": "https://localhost:8080/",
          "height": 498
        },
        "id": "e01e0433",
        "outputId": "006c6a10-d7f9-4568-b836-91fb0b9f8e1a"
      },
      "outputs": [
        {
          "output_type": "execute_result",
          "data": {
            "text/plain": [
              "   Unnamed: 0  ...                                question2_non_ascii\n",
              "0           0  ...  What is the step by step guide to invest in sh...\n",
              "1           1  ...  What would happen if the Indian government sto...\n",
              "2           2  ...  How can Internet speed be increased by hacking...\n",
              "3           3  ...  Find the remainder when [math]23^{24}[/math] i...\n",
              "4           4  ...            Which fish would survive in salt water?\n",
              "5           5  ...  I'm a triple Capricorn (Sun, Moon and ascendan...\n",
              "6           6  ...  What keeps childern active and far from phone ...\n",
              "7           7  ...          What should I do to be a great geologist?\n",
              "8           8  ...              When do you use \"&\" instead of \"and\"?\n",
              "9           9  ...  How do I hack Motorola DCX3400 for free internet?\n",
              "\n",
              "[10 rows x 9 columns]"
            ],
            "text/html": [
              "\n",
              "  <div id=\"df-0e65ac56-5116-4b2e-8b65-282a66fdc0c8\">\n",
              "    <div class=\"colab-df-container\">\n",
              "      <div>\n",
              "<style scoped>\n",
              "    .dataframe tbody tr th:only-of-type {\n",
              "        vertical-align: middle;\n",
              "    }\n",
              "\n",
              "    .dataframe tbody tr th {\n",
              "        vertical-align: top;\n",
              "    }\n",
              "\n",
              "    .dataframe thead th {\n",
              "        text-align: right;\n",
              "    }\n",
              "</style>\n",
              "<table border=\"1\" class=\"dataframe\">\n",
              "  <thead>\n",
              "    <tr style=\"text-align: right;\">\n",
              "      <th></th>\n",
              "      <th>Unnamed: 0</th>\n",
              "      <th>id</th>\n",
              "      <th>qid1</th>\n",
              "      <th>qid2</th>\n",
              "      <th>question1</th>\n",
              "      <th>question2</th>\n",
              "      <th>is_duplicate</th>\n",
              "      <th>question1_non_ascii</th>\n",
              "      <th>question2_non_ascii</th>\n",
              "    </tr>\n",
              "  </thead>\n",
              "  <tbody>\n",
              "    <tr>\n",
              "      <th>0</th>\n",
              "      <td>0</td>\n",
              "      <td>0</td>\n",
              "      <td>1</td>\n",
              "      <td>2</td>\n",
              "      <td>What is the step by step guide to invest in sh...</td>\n",
              "      <td>What is the step by step guide to invest in sh...</td>\n",
              "      <td>0</td>\n",
              "      <td>What is the step by step guide to invest in sh...</td>\n",
              "      <td>What is the step by step guide to invest in sh...</td>\n",
              "    </tr>\n",
              "    <tr>\n",
              "      <th>1</th>\n",
              "      <td>1</td>\n",
              "      <td>1</td>\n",
              "      <td>3</td>\n",
              "      <td>4</td>\n",
              "      <td>What is the story of Kohinoor (Koh-i-Noor) Dia...</td>\n",
              "      <td>What would happen if the Indian government sto...</td>\n",
              "      <td>0</td>\n",
              "      <td>What is the story of Kohinoor (Koh-i-Noor) Dia...</td>\n",
              "      <td>What would happen if the Indian government sto...</td>\n",
              "    </tr>\n",
              "    <tr>\n",
              "      <th>2</th>\n",
              "      <td>2</td>\n",
              "      <td>2</td>\n",
              "      <td>5</td>\n",
              "      <td>6</td>\n",
              "      <td>How can I increase the speed of my internet co...</td>\n",
              "      <td>How can Internet speed be increased by hacking...</td>\n",
              "      <td>0</td>\n",
              "      <td>How can I increase the speed of my internet co...</td>\n",
              "      <td>How can Internet speed be increased by hacking...</td>\n",
              "    </tr>\n",
              "    <tr>\n",
              "      <th>3</th>\n",
              "      <td>3</td>\n",
              "      <td>3</td>\n",
              "      <td>7</td>\n",
              "      <td>8</td>\n",
              "      <td>Why am I mentally very lonely? How can I solve...</td>\n",
              "      <td>Find the remainder when [math]23^{24}[/math] i...</td>\n",
              "      <td>0</td>\n",
              "      <td>Why am I mentally very lonely? How can I solve...</td>\n",
              "      <td>Find the remainder when [math]23^{24}[/math] i...</td>\n",
              "    </tr>\n",
              "    <tr>\n",
              "      <th>4</th>\n",
              "      <td>4</td>\n",
              "      <td>4</td>\n",
              "      <td>9</td>\n",
              "      <td>10</td>\n",
              "      <td>Which one dissolve in water quikly sugar, salt...</td>\n",
              "      <td>Which fish would survive in salt water?</td>\n",
              "      <td>0</td>\n",
              "      <td>Which one dissolve in water quikly sugar, salt...</td>\n",
              "      <td>Which fish would survive in salt water?</td>\n",
              "    </tr>\n",
              "    <tr>\n",
              "      <th>5</th>\n",
              "      <td>5</td>\n",
              "      <td>5</td>\n",
              "      <td>11</td>\n",
              "      <td>12</td>\n",
              "      <td>Astrology: I am a Capricorn Sun Cap moon and c...</td>\n",
              "      <td>I'm a triple Capricorn (Sun, Moon and ascendan...</td>\n",
              "      <td>1</td>\n",
              "      <td>Astrology: I am a Capricorn Sun Cap moon and c...</td>\n",
              "      <td>I'm a triple Capricorn (Sun, Moon and ascendan...</td>\n",
              "    </tr>\n",
              "    <tr>\n",
              "      <th>6</th>\n",
              "      <td>6</td>\n",
              "      <td>6</td>\n",
              "      <td>13</td>\n",
              "      <td>14</td>\n",
              "      <td>Should I buy tiago?</td>\n",
              "      <td>What keeps childern active and far from phone ...</td>\n",
              "      <td>0</td>\n",
              "      <td>Should I buy tiago?</td>\n",
              "      <td>What keeps childern active and far from phone ...</td>\n",
              "    </tr>\n",
              "    <tr>\n",
              "      <th>7</th>\n",
              "      <td>7</td>\n",
              "      <td>7</td>\n",
              "      <td>15</td>\n",
              "      <td>16</td>\n",
              "      <td>How can I be a good geologist?</td>\n",
              "      <td>What should I do to be a great geologist?</td>\n",
              "      <td>1</td>\n",
              "      <td>How can I be a good geologist?</td>\n",
              "      <td>What should I do to be a great geologist?</td>\n",
              "    </tr>\n",
              "    <tr>\n",
              "      <th>8</th>\n",
              "      <td>8</td>\n",
              "      <td>8</td>\n",
              "      <td>17</td>\n",
              "      <td>18</td>\n",
              "      <td>When do you use シ instead of し?</td>\n",
              "      <td>When do you use \"&amp;\" instead of \"and\"?</td>\n",
              "      <td>0</td>\n",
              "      <td>When do you use   instead of  ?</td>\n",
              "      <td>When do you use \"&amp;\" instead of \"and\"?</td>\n",
              "    </tr>\n",
              "    <tr>\n",
              "      <th>9</th>\n",
              "      <td>9</td>\n",
              "      <td>9</td>\n",
              "      <td>19</td>\n",
              "      <td>20</td>\n",
              "      <td>Motorola (company): Can I hack my Charter Moto...</td>\n",
              "      <td>How do I hack Motorola DCX3400 for free internet?</td>\n",
              "      <td>0</td>\n",
              "      <td>Motorola (company): Can I hack my Charter Moto...</td>\n",
              "      <td>How do I hack Motorola DCX3400 for free internet?</td>\n",
              "    </tr>\n",
              "  </tbody>\n",
              "</table>\n",
              "</div>\n",
              "      <button class=\"colab-df-convert\" onclick=\"convertToInteractive('df-0e65ac56-5116-4b2e-8b65-282a66fdc0c8')\"\n",
              "              title=\"Convert this dataframe to an interactive table.\"\n",
              "              style=\"display:none;\">\n",
              "        \n",
              "  <svg xmlns=\"http://www.w3.org/2000/svg\" height=\"24px\"viewBox=\"0 0 24 24\"\n",
              "       width=\"24px\">\n",
              "    <path d=\"M0 0h24v24H0V0z\" fill=\"none\"/>\n",
              "    <path d=\"M18.56 5.44l.94 2.06.94-2.06 2.06-.94-2.06-.94-.94-2.06-.94 2.06-2.06.94zm-11 1L8.5 8.5l.94-2.06 2.06-.94-2.06-.94L8.5 2.5l-.94 2.06-2.06.94zm10 10l.94 2.06.94-2.06 2.06-.94-2.06-.94-.94-2.06-.94 2.06-2.06.94z\"/><path d=\"M17.41 7.96l-1.37-1.37c-.4-.4-.92-.59-1.43-.59-.52 0-1.04.2-1.43.59L10.3 9.45l-7.72 7.72c-.78.78-.78 2.05 0 2.83L4 21.41c.39.39.9.59 1.41.59.51 0 1.02-.2 1.41-.59l7.78-7.78 2.81-2.81c.8-.78.8-2.07 0-2.86zM5.41 20L4 18.59l7.72-7.72 1.47 1.35L5.41 20z\"/>\n",
              "  </svg>\n",
              "      </button>\n",
              "      \n",
              "  <style>\n",
              "    .colab-df-container {\n",
              "      display:flex;\n",
              "      flex-wrap:wrap;\n",
              "      gap: 12px;\n",
              "    }\n",
              "\n",
              "    .colab-df-convert {\n",
              "      background-color: #E8F0FE;\n",
              "      border: none;\n",
              "      border-radius: 50%;\n",
              "      cursor: pointer;\n",
              "      display: none;\n",
              "      fill: #1967D2;\n",
              "      height: 32px;\n",
              "      padding: 0 0 0 0;\n",
              "      width: 32px;\n",
              "    }\n",
              "\n",
              "    .colab-df-convert:hover {\n",
              "      background-color: #E2EBFA;\n",
              "      box-shadow: 0px 1px 2px rgba(60, 64, 67, 0.3), 0px 1px 3px 1px rgba(60, 64, 67, 0.15);\n",
              "      fill: #174EA6;\n",
              "    }\n",
              "\n",
              "    [theme=dark] .colab-df-convert {\n",
              "      background-color: #3B4455;\n",
              "      fill: #D2E3FC;\n",
              "    }\n",
              "\n",
              "    [theme=dark] .colab-df-convert:hover {\n",
              "      background-color: #434B5C;\n",
              "      box-shadow: 0px 1px 3px 1px rgba(0, 0, 0, 0.15);\n",
              "      filter: drop-shadow(0px 1px 2px rgba(0, 0, 0, 0.3));\n",
              "      fill: #FFFFFF;\n",
              "    }\n",
              "  </style>\n",
              "\n",
              "      <script>\n",
              "        const buttonEl =\n",
              "          document.querySelector('#df-0e65ac56-5116-4b2e-8b65-282a66fdc0c8 button.colab-df-convert');\n",
              "        buttonEl.style.display =\n",
              "          google.colab.kernel.accessAllowed ? 'block' : 'none';\n",
              "\n",
              "        async function convertToInteractive(key) {\n",
              "          const element = document.querySelector('#df-0e65ac56-5116-4b2e-8b65-282a66fdc0c8');\n",
              "          const dataTable =\n",
              "            await google.colab.kernel.invokeFunction('convertToInteractive',\n",
              "                                                     [key], {});\n",
              "          if (!dataTable) return;\n",
              "\n",
              "          const docLinkHtml = 'Like what you see? Visit the ' +\n",
              "            '<a target=\"_blank\" href=https://colab.research.google.com/notebooks/data_table.ipynb>data table notebook</a>'\n",
              "            + ' to learn more about interactive tables.';\n",
              "          element.innerHTML = '';\n",
              "          dataTable['output_type'] = 'display_data';\n",
              "          await google.colab.output.renderOutput(dataTable, element);\n",
              "          const docLink = document.createElement('div');\n",
              "          docLink.innerHTML = docLinkHtml;\n",
              "          element.appendChild(docLink);\n",
              "        }\n",
              "      </script>\n",
              "    </div>\n",
              "  </div>\n",
              "  "
            ]
          },
          "metadata": {},
          "execution_count": 4
        }
      ],
      "source": [
        "#df.to_csv('/content/preprocessed.csv')\n",
        "#df = pd.read_csv('/content/preprocessed.csv')\n",
        "#df.head(10)"
      ]
    },
    {
      "cell_type": "code",
      "source": [
        "\n",
        "x_train = df.iloc[:,6:].values #get 2 last col\n",
        "y_train = df.iloc[:,5].values #get duplicate col\n",
        "#test result\n",
        "print(x_train[:5])\n",
        "print(\"y_train\")\n",
        "print(y_train[:5])"
      ],
      "metadata": {
        "colab": {
          "base_uri": "https://localhost:8080/"
        },
        "id": "sGE6lcDiW_-H",
        "outputId": "c0dd27dd-44ca-4230-ebde-7f17200451b5"
      },
      "id": "sGE6lcDiW_-H",
      "execution_count": 11,
      "outputs": [
        {
          "output_type": "stream",
          "name": "stdout",
          "text": [
            "[['What is the step by step guide to invest in share market in india?'\n",
            "  'What is the step by step guide to invest in share market?']\n",
            " ['What is the story of Kohinoor (Koh-i-Noor) Diamond?'\n",
            "  'What would happen if the Indian government stole the Kohinoor (Koh-i-Noor) diamond back?']\n",
            " ['How can I increase the speed of my internet connection while using a VPN?'\n",
            "  'How can Internet speed be increased by hacking through DNS?']\n",
            " ['Why am I mentally very lonely? How can I solve it?'\n",
            "  'Find the remainder when [math]23^{24}[/math] is divided by 24,23?']\n",
            " ['Which one dissolve in water quikly sugar, salt, methane and carbon di oxide?'\n",
            "  'Which fish would survive in salt water?']]\n",
            "y_train\n",
            "[0 0 0 0 0]\n"
          ]
        }
      ]
    },
    {
      "cell_type": "code",
      "source": [
        "s1 = x_train[:,0] #question 1 training\n",
        "s2 = x_train[:,1] #question 2 training\n",
        "print(s1[:5])\n",
        "print(s2[:5])"
      ],
      "metadata": {
        "id": "tMgdZ9twct5y",
        "colab": {
          "base_uri": "https://localhost:8080/"
        },
        "outputId": "6b9d308e-6180-40c6-e7a7-518d619d7cd5"
      },
      "id": "tMgdZ9twct5y",
      "execution_count": 12,
      "outputs": [
        {
          "output_type": "stream",
          "name": "stdout",
          "text": [
            "['What is the step by step guide to invest in share market in india?'\n",
            " 'What is the story of Kohinoor (Koh-i-Noor) Diamond?'\n",
            " 'How can I increase the speed of my internet connection while using a VPN?'\n",
            " 'Why am I mentally very lonely? How can I solve it?'\n",
            " 'Which one dissolve in water quikly sugar, salt, methane and carbon di oxide?']\n",
            "['What is the step by step guide to invest in share market?'\n",
            " 'What would happen if the Indian government stole the Kohinoor (Koh-i-Noor) diamond back?'\n",
            " 'How can Internet speed be increased by hacking through DNS?'\n",
            " 'Find the remainder when [math]23^{24}[/math] is divided by 24,23?'\n",
            " 'Which fish would survive in salt water?']\n"
          ]
        }
      ]
    },
    {
      "cell_type": "code",
      "source": [
        "test_df = pd.read_csv('/content/test.csv.zip')\n",
        "test_df.head(5)"
      ],
      "metadata": {
        "colab": {
          "base_uri": "https://localhost:8080/",
          "height": 200
        },
        "id": "nUbPMJZMbh90",
        "outputId": "4ba8a559-5f85-45bb-9d54-40fc218f2099"
      },
      "id": "nUbPMJZMbh90",
      "execution_count": 13,
      "outputs": [
        {
          "output_type": "stream",
          "name": "stderr",
          "text": [
            "/usr/local/lib/python3.8/dist-packages/IPython/core/interactiveshell.py:3326: DtypeWarning: Columns (0) have mixed types.Specify dtype option on import or set low_memory=False.\n",
            "  exec(code_obj, self.user_global_ns, self.user_ns)\n"
          ]
        },
        {
          "output_type": "execute_result",
          "data": {
            "text/plain": [
              "  test_id                                          question1  \\\n",
              "0       0  How does the Surface Pro himself 4 compare wit...   \n",
              "1       1  Should I have a hair transplant at age 24? How...   \n",
              "2       2  What but is the best way to send money from Ch...   \n",
              "3       3                        Which food not emulsifiers?   \n",
              "4       4                   How \"aberystwyth\" start reading?   \n",
              "\n",
              "                                           question2  \n",
              "0  Why did Microsoft choose core m3 and not core ...  \n",
              "1        How much cost does hair transplant require?  \n",
              "2                      What you send money to China?  \n",
              "3                                  What foods fibre?  \n",
              "4                     How their can I start reading?  "
            ],
            "text/html": [
              "\n",
              "  <div id=\"df-c548221f-5daa-4719-bf79-b1eddfa3daf0\">\n",
              "    <div class=\"colab-df-container\">\n",
              "      <div>\n",
              "<style scoped>\n",
              "    .dataframe tbody tr th:only-of-type {\n",
              "        vertical-align: middle;\n",
              "    }\n",
              "\n",
              "    .dataframe tbody tr th {\n",
              "        vertical-align: top;\n",
              "    }\n",
              "\n",
              "    .dataframe thead th {\n",
              "        text-align: right;\n",
              "    }\n",
              "</style>\n",
              "<table border=\"1\" class=\"dataframe\">\n",
              "  <thead>\n",
              "    <tr style=\"text-align: right;\">\n",
              "      <th></th>\n",
              "      <th>test_id</th>\n",
              "      <th>question1</th>\n",
              "      <th>question2</th>\n",
              "    </tr>\n",
              "  </thead>\n",
              "  <tbody>\n",
              "    <tr>\n",
              "      <th>0</th>\n",
              "      <td>0</td>\n",
              "      <td>How does the Surface Pro himself 4 compare wit...</td>\n",
              "      <td>Why did Microsoft choose core m3 and not core ...</td>\n",
              "    </tr>\n",
              "    <tr>\n",
              "      <th>1</th>\n",
              "      <td>1</td>\n",
              "      <td>Should I have a hair transplant at age 24? How...</td>\n",
              "      <td>How much cost does hair transplant require?</td>\n",
              "    </tr>\n",
              "    <tr>\n",
              "      <th>2</th>\n",
              "      <td>2</td>\n",
              "      <td>What but is the best way to send money from Ch...</td>\n",
              "      <td>What you send money to China?</td>\n",
              "    </tr>\n",
              "    <tr>\n",
              "      <th>3</th>\n",
              "      <td>3</td>\n",
              "      <td>Which food not emulsifiers?</td>\n",
              "      <td>What foods fibre?</td>\n",
              "    </tr>\n",
              "    <tr>\n",
              "      <th>4</th>\n",
              "      <td>4</td>\n",
              "      <td>How \"aberystwyth\" start reading?</td>\n",
              "      <td>How their can I start reading?</td>\n",
              "    </tr>\n",
              "  </tbody>\n",
              "</table>\n",
              "</div>\n",
              "      <button class=\"colab-df-convert\" onclick=\"convertToInteractive('df-c548221f-5daa-4719-bf79-b1eddfa3daf0')\"\n",
              "              title=\"Convert this dataframe to an interactive table.\"\n",
              "              style=\"display:none;\">\n",
              "        \n",
              "  <svg xmlns=\"http://www.w3.org/2000/svg\" height=\"24px\"viewBox=\"0 0 24 24\"\n",
              "       width=\"24px\">\n",
              "    <path d=\"M0 0h24v24H0V0z\" fill=\"none\"/>\n",
              "    <path d=\"M18.56 5.44l.94 2.06.94-2.06 2.06-.94-2.06-.94-.94-2.06-.94 2.06-2.06.94zm-11 1L8.5 8.5l.94-2.06 2.06-.94-2.06-.94L8.5 2.5l-.94 2.06-2.06.94zm10 10l.94 2.06.94-2.06 2.06-.94-2.06-.94-.94-2.06-.94 2.06-2.06.94z\"/><path d=\"M17.41 7.96l-1.37-1.37c-.4-.4-.92-.59-1.43-.59-.52 0-1.04.2-1.43.59L10.3 9.45l-7.72 7.72c-.78.78-.78 2.05 0 2.83L4 21.41c.39.39.9.59 1.41.59.51 0 1.02-.2 1.41-.59l7.78-7.78 2.81-2.81c.8-.78.8-2.07 0-2.86zM5.41 20L4 18.59l7.72-7.72 1.47 1.35L5.41 20z\"/>\n",
              "  </svg>\n",
              "      </button>\n",
              "      \n",
              "  <style>\n",
              "    .colab-df-container {\n",
              "      display:flex;\n",
              "      flex-wrap:wrap;\n",
              "      gap: 12px;\n",
              "    }\n",
              "\n",
              "    .colab-df-convert {\n",
              "      background-color: #E8F0FE;\n",
              "      border: none;\n",
              "      border-radius: 50%;\n",
              "      cursor: pointer;\n",
              "      display: none;\n",
              "      fill: #1967D2;\n",
              "      height: 32px;\n",
              "      padding: 0 0 0 0;\n",
              "      width: 32px;\n",
              "    }\n",
              "\n",
              "    .colab-df-convert:hover {\n",
              "      background-color: #E2EBFA;\n",
              "      box-shadow: 0px 1px 2px rgba(60, 64, 67, 0.3), 0px 1px 3px 1px rgba(60, 64, 67, 0.15);\n",
              "      fill: #174EA6;\n",
              "    }\n",
              "\n",
              "    [theme=dark] .colab-df-convert {\n",
              "      background-color: #3B4455;\n",
              "      fill: #D2E3FC;\n",
              "    }\n",
              "\n",
              "    [theme=dark] .colab-df-convert:hover {\n",
              "      background-color: #434B5C;\n",
              "      box-shadow: 0px 1px 3px 1px rgba(0, 0, 0, 0.15);\n",
              "      filter: drop-shadow(0px 1px 2px rgba(0, 0, 0, 0.3));\n",
              "      fill: #FFFFFF;\n",
              "    }\n",
              "  </style>\n",
              "\n",
              "      <script>\n",
              "        const buttonEl =\n",
              "          document.querySelector('#df-c548221f-5daa-4719-bf79-b1eddfa3daf0 button.colab-df-convert');\n",
              "        buttonEl.style.display =\n",
              "          google.colab.kernel.accessAllowed ? 'block' : 'none';\n",
              "\n",
              "        async function convertToInteractive(key) {\n",
              "          const element = document.querySelector('#df-c548221f-5daa-4719-bf79-b1eddfa3daf0');\n",
              "          const dataTable =\n",
              "            await google.colab.kernel.invokeFunction('convertToInteractive',\n",
              "                                                     [key], {});\n",
              "          if (!dataTable) return;\n",
              "\n",
              "          const docLinkHtml = 'Like what you see? Visit the ' +\n",
              "            '<a target=\"_blank\" href=https://colab.research.google.com/notebooks/data_table.ipynb>data table notebook</a>'\n",
              "            + ' to learn more about interactive tables.';\n",
              "          element.innerHTML = '';\n",
              "          dataTable['output_type'] = 'display_data';\n",
              "          await google.colab.output.renderOutput(dataTable, element);\n",
              "          const docLink = document.createElement('div');\n",
              "          docLink.innerHTML = docLinkHtml;\n",
              "          element.appendChild(docLink);\n",
              "        }\n",
              "      </script>\n",
              "    </div>\n",
              "  </div>\n",
              "  "
            ]
          },
          "metadata": {},
          "execution_count": 13
        }
      ]
    },
    {
      "cell_type": "code",
      "source": [
        "test_df['question1'].apply(lambda x: remove_non_ascii(x))\n",
        "test_df['question2'].apply(lambda x: remove_non_ascii(x))\n",
        "question1_test = test_df.iloc[:400001,1:2].values #question 1 test\n",
        "question2_test = test_df.iloc[:400001,2:].values #question 2 test"
      ],
      "metadata": {
        "id": "7_4Um0Gsbwqa"
      },
      "id": "7_4Um0Gsbwqa",
      "execution_count": 14,
      "outputs": []
    },
    {
      "cell_type": "code",
      "source": [
        "print(question1_test[:5])\n",
        "print(question2_test[:5])"
      ],
      "metadata": {
        "colab": {
          "base_uri": "https://localhost:8080/"
        },
        "id": "VplKsUzJdq2b",
        "outputId": "6718fbaf-6846-4199-c749-3ff2f0abe641"
      },
      "id": "VplKsUzJdq2b",
      "execution_count": null,
      "outputs": [
        {
          "output_type": "stream",
          "name": "stdout",
          "text": [
            "[['How does the Surface Pro himself 4 compare with iPad Pro?']\n",
            " ['Should I have a hair transplant at age 24? How much would it cost?']\n",
            " ['What but is the best way to send money from China to the US?']\n",
            " ['Which food not emulsifiers?']\n",
            " ['How \"aberystwyth\" start reading?']]\n",
            "[['Why did Microsoft choose core m3 and not core i3 home Surface Pro 4?']\n",
            " ['How much cost does hair transplant require?']\n",
            " ['What you send money to China?']\n",
            " ['What foods fibre?']\n",
            " ['How their can I start reading?']]\n"
          ]
        }
      ]
    },
    {
      "cell_type": "code",
      "source": [
        "import keras\n",
        "from keras.preprocessing.text import Tokenizer\n",
        "max_words = 200000\n",
        "tokenizer = Tokenizer(num_words = max_words)\n",
        "tokenizer.fit_on_texts(list(df['question1_non_ascii'].values.astype(str))+list(df['question2_non_ascii'].values.astype(str)))\n"
      ],
      "metadata": {
        "id": "v4A6JTIneLws"
      },
      "id": "v4A6JTIneLws",
      "execution_count": 15,
      "outputs": []
    },
    {
      "cell_type": "code",
      "source": [
        "#import keras.utils\n",
        "import tensorflow as tf\n",
        "from tensorflow.keras.preprocessing.sequence import pad_sequences\n",
        "#tokenize and pad question1 training\n",
        "x_train_q1 = tokenizer.texts_to_sequences(df['question1_non_ascii'].values.astype(str))\n",
        "x_train_q1 = pad_sequences(x_train_q1, maxlen = 30,padding = 'post')\n"
      ],
      "metadata": {
        "id": "2Fm7RtObeu7l"
      },
      "id": "2Fm7RtObeu7l",
      "execution_count": 16,
      "outputs": []
    },
    {
      "cell_type": "code",
      "source": [
        "\n",
        "#tokenize and pad question2 training\n",
        "x_train_q2 = tokenizer.texts_to_sequences(df['question2_non_ascii'].values.astype(str))\n",
        "x_train_q2 = pad_sequences(x_train_q2, maxlen = 30, padding = 'post')"
      ],
      "metadata": {
        "id": "jQWnXrHarfYc"
      },
      "id": "jQWnXrHarfYc",
      "execution_count": 17,
      "outputs": []
    },
    {
      "cell_type": "code",
      "source": [
        "#tokenize and pad question1 testing\n",
        "x_test_q1 = tokenizer.texts_to_sequences(question1_test.astype(str).ravel())\n",
        "x_test_q1 = pad_sequences(x_test_q1, maxlen = 30, padding = 'post')\n"
      ],
      "metadata": {
        "id": "FPaqj4fZrbOE"
      },
      "id": "FPaqj4fZrbOE",
      "execution_count": 18,
      "outputs": []
    },
    {
      "cell_type": "code",
      "source": [
        "#tokenize and pad question2 testing\n",
        "x_test_q2 = tokenizer.texts_to_sequences(question2_test.astype(str).ravel())\n",
        "x_test_q2 = pad_sequences(x_test_q2, maxlen = 30, padding = 'post')"
      ],
      "metadata": {
        "id": "1Zq2j8bBrdGY"
      },
      "id": "1Zq2j8bBrdGY",
      "execution_count": 19,
      "outputs": []
    },
    {
      "cell_type": "code",
      "source": [
        "word_index = tokenizer.word_index\n",
        "print(len(word_index))"
      ],
      "metadata": {
        "colab": {
          "base_uri": "https://localhost:8080/"
        },
        "id": "37_TOJauhor_",
        "outputId": "befc67dc-3d3e-4df0-f9fa-92828409748c"
      },
      "id": "37_TOJauhor_",
      "execution_count": 20,
      "outputs": [
        {
          "output_type": "stream",
          "name": "stdout",
          "text": [
            "91848\n"
          ]
        }
      ]
    },
    {
      "cell_type": "code",
      "source": [
        "#!wget http://nlp.stanford.edu/data/glove.6b.zip\n",
        "import numpy as np\n",
        "# using GloVe to embedding\n",
        "embedding_matrix = np.random.random((len(word_index)+1, 200))\n",
        "embedding_index = {}\n",
        "with open('/content/glove.6B.200d.txt') as f:\n",
        "  for line in f:\n",
        "    values = line.split()\n",
        "    word = values[0]\n",
        "    vectors = np.asarray(values[1:],'float32')\n",
        "    embedding_index[word] = vectors\n",
        "  f.close()\n",
        "\n",
        "for word,i in word_index.items():\n",
        "  vector = embedding_index.get(word)\n",
        "  if vector is not None:\n",
        "    embedding_matrix[i] = vector\n"
      ],
      "metadata": {
        "id": "ePAEqP2njjl4"
      },
      "id": "ePAEqP2njjl4",
      "execution_count": 21,
      "outputs": []
    },
    {
      "cell_type": "code",
      "source": [
        "embedding_matrix[0]"
      ],
      "metadata": {
        "colab": {
          "base_uri": "https://localhost:8080/"
        },
        "id": "ZTBp769SmC7A",
        "outputId": "2db05bc9-808b-4258-8054-31e4cbf87d5e"
      },
      "id": "ZTBp769SmC7A",
      "execution_count": 22,
      "outputs": [
        {
          "output_type": "execute_result",
          "data": {
            "text/plain": [
              "array([7.24230154e-01, 1.19940276e-01, 5.16860972e-01, 2.57478181e-01,\n",
              "       2.88072056e-01, 4.21084266e-01, 4.56276203e-01, 1.71001402e-01,\n",
              "       1.68480565e-01, 5.38184604e-01, 1.76498961e-01, 7.68172941e-01,\n",
              "       9.50338041e-01, 7.78909705e-01, 6.07423465e-01, 1.85883145e-01,\n",
              "       3.84168640e-01, 5.43227756e-01, 6.73887794e-01, 9.09634476e-01,\n",
              "       2.62762738e-01, 8.08872468e-01, 7.12962130e-01, 4.29818368e-01,\n",
              "       5.55852427e-01, 3.91604343e-01, 9.24461441e-02, 8.46264703e-01,\n",
              "       3.59273447e-01, 1.62009300e-01, 5.05125835e-01, 8.50713126e-01,\n",
              "       3.10727051e-01, 8.06893558e-01, 5.40446911e-01, 4.58477640e-01,\n",
              "       7.64835822e-01, 9.54353489e-01, 2.38494251e-01, 4.85666042e-01,\n",
              "       1.18396768e-01, 7.84654629e-01, 9.73622665e-01, 7.95295562e-01,\n",
              "       9.70215668e-01, 7.62565806e-01, 4.58298968e-02, 4.60581515e-01,\n",
              "       3.86846606e-01, 2.34260882e-01, 8.53474101e-01, 8.42179959e-01,\n",
              "       7.44249573e-02, 2.95207440e-01, 7.57483605e-01, 6.20724978e-01,\n",
              "       4.92941516e-01, 1.38632884e-01, 9.62084810e-01, 4.66112743e-01,\n",
              "       3.56746522e-01, 4.11116109e-01, 8.58390771e-01, 9.97123227e-01,\n",
              "       5.91377690e-02, 2.95326940e-01, 7.10551628e-01, 5.35495006e-01,\n",
              "       6.82991958e-01, 1.45181038e-02, 6.52336910e-01, 8.99358800e-01,\n",
              "       8.91134753e-01, 7.71766575e-01, 4.64157876e-03, 1.40258577e-01,\n",
              "       8.21570874e-01, 1.40078038e-01, 7.56124102e-01, 2.13360397e-01,\n",
              "       5.56903208e-01, 9.65179244e-01, 1.00921232e-01, 2.07012985e-01,\n",
              "       9.44890286e-01, 8.65630232e-01, 8.47688831e-01, 3.47141499e-01,\n",
              "       1.68278587e-01, 8.74242405e-01, 7.68914371e-01, 4.37714640e-01,\n",
              "       4.25203589e-01, 4.19746255e-01, 3.08355307e-01, 4.20815432e-01,\n",
              "       2.39486255e-01, 7.80872254e-01, 7.23126228e-01, 3.34206414e-01,\n",
              "       3.97742199e-01, 9.02810600e-01, 8.57355021e-01, 2.63368867e-01,\n",
              "       7.48609284e-01, 8.03233127e-01, 6.39829339e-01, 5.10460114e-01,\n",
              "       8.46943534e-01, 1.49759250e-01, 5.14279695e-01, 2.06166450e-01,\n",
              "       6.13285091e-01, 6.90331546e-01, 5.94987654e-01, 8.70633133e-01,\n",
              "       9.12552000e-01, 7.56783029e-01, 6.74023396e-01, 2.50881184e-03,\n",
              "       2.10803390e-01, 9.04170243e-01, 4.79193410e-01, 1.04527357e-01,\n",
              "       7.23253498e-02, 7.29663232e-01, 3.48478835e-01, 4.56230769e-01,\n",
              "       3.17317083e-01, 4.78777893e-01, 7.13279076e-01, 9.11188253e-01,\n",
              "       6.34297903e-01, 6.08703690e-01, 5.28978544e-01, 7.41901236e-01,\n",
              "       6.12429638e-01, 7.67271307e-01, 6.14430503e-01, 6.01101297e-02,\n",
              "       6.90737159e-01, 3.46373299e-01, 1.92137980e-02, 4.74302238e-01,\n",
              "       7.01731183e-01, 7.93701246e-01, 4.81608876e-01, 9.60673458e-01,\n",
              "       7.76639881e-01, 6.40775200e-01, 4.76477095e-01, 3.28219713e-02,\n",
              "       6.69989509e-01, 4.79466021e-01, 4.30128052e-03, 6.37420687e-01,\n",
              "       1.08004999e-01, 9.38126235e-01, 4.77810057e-01, 5.06653683e-01,\n",
              "       8.40572119e-01, 2.71845885e-01, 5.09353133e-02, 5.19670080e-01,\n",
              "       3.06639475e-01, 6.99760350e-01, 6.62327423e-01, 2.81303261e-01,\n",
              "       1.83059474e-01, 1.93096653e-01, 7.07692553e-01, 4.78906420e-01,\n",
              "       1.33464634e-01, 8.95755930e-01, 7.04701642e-01, 9.50058789e-01,\n",
              "       9.37756805e-01, 8.15984526e-01, 2.97326807e-01, 9.49579554e-01,\n",
              "       6.17394549e-01, 6.09247384e-02, 3.24976312e-02, 2.24458529e-01,\n",
              "       6.40690554e-01, 5.26249606e-01, 7.31282565e-01, 7.81627300e-06,\n",
              "       1.69038877e-01, 8.87562333e-01, 3.29580259e-01, 9.46485173e-01,\n",
              "       3.76161032e-01, 2.47285573e-01, 2.04332868e-01, 8.54433813e-01,\n",
              "       9.40802218e-01, 3.49968751e-01, 5.87267327e-01, 9.70628512e-01])"
            ]
          },
          "metadata": {},
          "execution_count": 22
        }
      ]
    },
    {
      "cell_type": "code",
      "source": [
        "import tensorflow"
      ],
      "metadata": {
        "id": "aihKz7fbLysU"
      },
      "id": "aihKz7fbLysU",
      "execution_count": 23,
      "outputs": []
    },
    {
      "cell_type": "code",
      "source": [
        "\n",
        "from tensorflow.keras.layers import *\n",
        "from tensorflow.keras.models import Model\n",
        "\n",
        "#model for question1\n",
        "model_q1 = tf.keras.Sequential()\n",
        "model_q1.add(Embedding(input_dim = len(word_index)+1,\n",
        "                       output_dim = 200,\n",
        "                       weights = [embedding_matrix],\n",
        "                       input_length = 30))\n",
        "model_q1.add(LSTM(128, activation = 'tanh', return_sequences = True))\n",
        "model_q1.add(Dropout(0.2))\n",
        "#model_q1.add(LSTM(128,return_sequences = True))\n",
        "#model_q1.add(LSTM(128))\n",
        "model_q1.add(Dense(60,activation = 'tanh'))\n",
        "model_q1.add(Dense(2,activation = 'sigmoid'))"
      ],
      "metadata": {
        "id": "do0hl8OhmK1F"
      },
      "id": "do0hl8OhmK1F",
      "execution_count": 24,
      "outputs": []
    },
    {
      "cell_type": "code",
      "source": [
        "#model for question 2\n",
        "model_q2 = tf.keras.Sequential()\n",
        "model_q2.add(Embedding(input_dim = len(word_index)+1,\n",
        "                       output_dim = 200,\n",
        "                       weights = [embedding_matrix],\n",
        "                       input_length = 30))\n",
        "model_q2.add(LSTM(128, activation = 'tanh', return_sequences = True))\n",
        "model_q2.add(Dropout(0.2))\n",
        "#model_q2.add(LSTM(128,return_sequences = True))\n",
        "#model_q2.add(LSTM(128))\n",
        "model_q2.add(Dense(60,activation = 'tanh'))\n",
        "model_q2.add(Dense(2,activation = 'sigmoid'))"
      ],
      "metadata": {
        "id": "nHA1WCrPn3ng"
      },
      "id": "nHA1WCrPn3ng",
      "execution_count": 25,
      "outputs": []
    },
    {
      "cell_type": "code",
      "source": [
        "#merge output form model 1 and model 2\n",
        "merge_out = Multiply()([model_q1.output,model_q2.output])\n",
        "merge_out = Flatten()(merge_out)\n",
        "merge_out = Dense(100,activation = 'relu')(merge_out)\n",
        "merge_out = Dropout(0.2)(merge_out)\n",
        "merge_out = Dense(50,activation = 'relu')(merge_out)\n",
        "merge_out = Dropout(0.2)(merge_out)\n",
        "merge_out = Dense(2,activation = 'sigmoid')(merge_out)\n"
      ],
      "metadata": {
        "id": "MuaVijb8oE5I"
      },
      "id": "MuaVijb8oE5I",
      "execution_count": 26,
      "outputs": []
    },
    {
      "cell_type": "code",
      "source": [
        "new_model = Model([model_q1.input,model_q2.input],merge_out)\n",
        "new_model.compile(optimizer = 'adam',\n",
        "                  loss = 'sparse_categorical_crossentropy',\n",
        "                  metrics = ['accuracy']\n",
        "                  )\n",
        "history = new_model.fit([x_train_q1,x_train_q2],y_train,batch_size = 2000, epochs = 5)\n"
      ],
      "metadata": {
        "colab": {
          "base_uri": "https://localhost:8080/"
        },
        "id": "72VVfJIgoyoY",
        "outputId": "d61f71d0-ffe4-4097-ccb8-0ec13bec421c"
      },
      "id": "72VVfJIgoyoY",
      "execution_count": 27,
      "outputs": [
        {
          "output_type": "stream",
          "name": "stdout",
          "text": [
            "Epoch 1/5\n",
            "203/203 [==============================] - 24s 75ms/step - loss: 0.5621 - accuracy: 0.7030\n",
            "Epoch 2/5\n",
            "203/203 [==============================] - 16s 76ms/step - loss: 0.4755 - accuracy: 0.7692\n",
            "Epoch 3/5\n",
            "203/203 [==============================] - 15s 76ms/step - loss: 0.4252 - accuracy: 0.7994\n",
            "Epoch 4/5\n",
            "203/203 [==============================] - 16s 77ms/step - loss: 0.3806 - accuracy: 0.8238\n",
            "Epoch 5/5\n",
            "203/203 [==============================] - 16s 77ms/step - loss: 0.3389 - accuracy: 0.8458\n"
          ]
        }
      ]
    },
    {
      "cell_type": "code",
      "source": [
        "new_model.summary()"
      ],
      "metadata": {
        "colab": {
          "base_uri": "https://localhost:8080/"
        },
        "id": "341uZSe3AHIn",
        "outputId": "563908d3-f84d-4fe4-d3db-532a6c4320bb"
      },
      "id": "341uZSe3AHIn",
      "execution_count": 28,
      "outputs": [
        {
          "output_type": "stream",
          "name": "stdout",
          "text": [
            "Model: \"model\"\n",
            "__________________________________________________________________________________________________\n",
            " Layer (type)                   Output Shape         Param #     Connected to                     \n",
            "==================================================================================================\n",
            " embedding_input (InputLayer)   [(None, 30)]         0           []                               \n",
            "                                                                                                  \n",
            " embedding_1_input (InputLayer)  [(None, 30)]        0           []                               \n",
            "                                                                                                  \n",
            " embedding (Embedding)          (None, 30, 200)      18369800    ['embedding_input[0][0]']        \n",
            "                                                                                                  \n",
            " embedding_1 (Embedding)        (None, 30, 200)      18369800    ['embedding_1_input[0][0]']      \n",
            "                                                                                                  \n",
            " lstm (LSTM)                    (None, 30, 128)      168448      ['embedding[0][0]']              \n",
            "                                                                                                  \n",
            " lstm_1 (LSTM)                  (None, 30, 128)      168448      ['embedding_1[0][0]']            \n",
            "                                                                                                  \n",
            " dropout (Dropout)              (None, 30, 128)      0           ['lstm[0][0]']                   \n",
            "                                                                                                  \n",
            " dropout_1 (Dropout)            (None, 30, 128)      0           ['lstm_1[0][0]']                 \n",
            "                                                                                                  \n",
            " dense (Dense)                  (None, 30, 60)       7740        ['dropout[0][0]']                \n",
            "                                                                                                  \n",
            " dense_2 (Dense)                (None, 30, 60)       7740        ['dropout_1[0][0]']              \n",
            "                                                                                                  \n",
            " dense_1 (Dense)                (None, 30, 2)        122         ['dense[0][0]']                  \n",
            "                                                                                                  \n",
            " dense_3 (Dense)                (None, 30, 2)        122         ['dense_2[0][0]']                \n",
            "                                                                                                  \n",
            " multiply (Multiply)            (None, 30, 2)        0           ['dense_1[0][0]',                \n",
            "                                                                  'dense_3[0][0]']                \n",
            "                                                                                                  \n",
            " flatten (Flatten)              (None, 60)           0           ['multiply[0][0]']               \n",
            "                                                                                                  \n",
            " dense_4 (Dense)                (None, 100)          6100        ['flatten[0][0]']                \n",
            "                                                                                                  \n",
            " dropout_2 (Dropout)            (None, 100)          0           ['dense_4[0][0]']                \n",
            "                                                                                                  \n",
            " dense_5 (Dense)                (None, 50)           5050        ['dropout_2[0][0]']              \n",
            "                                                                                                  \n",
            " dropout_3 (Dropout)            (None, 50)           0           ['dense_5[0][0]']                \n",
            "                                                                                                  \n",
            " dense_6 (Dense)                (None, 2)            102         ['dropout_3[0][0]']              \n",
            "                                                                                                  \n",
            "==================================================================================================\n",
            "Total params: 37,103,472\n",
            "Trainable params: 37,103,472\n",
            "Non-trainable params: 0\n",
            "__________________________________________________________________________________________________\n"
          ]
        }
      ]
    },
    {
      "cell_type": "markdown",
      "source": [
        "#Bidirection\n"
      ],
      "metadata": {
        "id": "tM5H8V5mbEqS"
      },
      "id": "tM5H8V5mbEqS"
    },
    {
      "cell_type": "code",
      "source": [
        "#model for question1\n",
        "model1_q1 = tf.keras.Sequential()\n",
        "model1_q1.add(Embedding(input_dim = len(word_index)+1,\n",
        "                       output_dim = 200,\n",
        "                       weights = [embedding_matrix],\n",
        "                       input_length = 30))\n",
        "model1_q1.add(Bidirectional(LSTM(128, activation = 'tanh', return_sequences = True)))\n",
        "model1_q1.add(Dropout(0.2))\n",
        "#model1_q1.add(LSTM(128,return_sequences = True))\n",
        "#model1_q1.add(LSTM(128))\n",
        "model1_q1.add(Dense(60,activation = 'tanh'))\n",
        "model1_q1.add(Dense(2,activation = 'sigmoid'))"
      ],
      "metadata": {
        "id": "OKKuCm7LbEJG"
      },
      "id": "OKKuCm7LbEJG",
      "execution_count": 29,
      "outputs": []
    },
    {
      "cell_type": "code",
      "source": [
        "#model for question2\n",
        "model1_q2 = tf.keras.Sequential()\n",
        "model1_q2.add(Embedding(input_dim = len(word_index)+1,\n",
        "                       output_dim = 200,\n",
        "                       weights = [embedding_matrix],\n",
        "                       input_length = 30))\n",
        "model1_q2.add(Bidirectional(LSTM(128, activation = 'tanh', return_sequences = True)))\n",
        "model1_q2.add(Dropout(0.2))\n",
        "#model1_q2.add(LSTM(128,return_sequences = True))\n",
        "#model1_q2.add(LSTM(128))\n",
        "model1_q2.add(Dense(60,activation = 'tanh'))\n",
        "model1_q2.add(Dense(2,activation = 'sigmoid'))"
      ],
      "metadata": {
        "id": "hoht82Y4bL3g"
      },
      "id": "hoht82Y4bL3g",
      "execution_count": 30,
      "outputs": []
    },
    {
      "cell_type": "code",
      "source": [
        "#merge output form model 1 and model 2\n",
        "merge_out2 = Multiply()([model1_q1.output,model1_q2.output])\n",
        "merge_out2 = Flatten()(merge_out2)\n",
        "merge_out2 = Dense(100,activation = 'relu')(merge_out2)\n",
        "merge_out2 = Dropout(0.2)(merge_out2)\n",
        "merge_out2 = Dense(50,activation = 'relu')(merge_out2)\n",
        "merge_out2 = Dropout(0.2)(merge_out2)\n",
        "merge_out2 = Dense(2,activation = 'sigmoid')(merge_out2)"
      ],
      "metadata": {
        "id": "rVxY6q4Sd05o"
      },
      "id": "rVxY6q4Sd05o",
      "execution_count": 31,
      "outputs": []
    },
    {
      "cell_type": "code",
      "source": [
        "bi_model = Model([model1_q1.input,model1_q2.input],merge_out2)\n",
        "bi_model.compile(optimizer = 'adam',\n",
        "                  loss = 'sparse_categorical_crossentropy',\n",
        "                  metrics = ['accuracy']\n",
        "                  )\n"
      ],
      "metadata": {
        "id": "midF96eGcBPH"
      },
      "id": "midF96eGcBPH",
      "execution_count": 32,
      "outputs": []
    },
    {
      "cell_type": "code",
      "source": [
        "bi_model.summary()"
      ],
      "metadata": {
        "colab": {
          "base_uri": "https://localhost:8080/"
        },
        "id": "DQD78QdhLlcc",
        "outputId": "71b42976-b160-4bed-ec1d-f7066c93d03d"
      },
      "id": "DQD78QdhLlcc",
      "execution_count": null,
      "outputs": [
        {
          "output_type": "stream",
          "name": "stdout",
          "text": [
            "Model: \"model_2\"\n",
            "__________________________________________________________________________________________________\n",
            " Layer (type)                   Output Shape         Param #     Connected to                     \n",
            "==================================================================================================\n",
            " embedding_4_input (InputLayer)  [(None, 30)]        0           []                               \n",
            "                                                                                                  \n",
            " embedding_5_input (InputLayer)  [(None, 30)]        0           []                               \n",
            "                                                                                                  \n",
            " embedding_4 (Embedding)        (None, 30, 200)      18369800    ['embedding_4_input[0][0]']      \n",
            "                                                                                                  \n",
            " embedding_5 (Embedding)        (None, 30, 200)      18369800    ['embedding_5_input[0][0]']      \n",
            "                                                                                                  \n",
            " bidirectional (Bidirectional)  (None, 30, 256)      336896      ['embedding_4[0][0]']            \n",
            "                                                                                                  \n",
            " bidirectional_1 (Bidirectional  (None, 30, 256)     336896      ['embedding_5[0][0]']            \n",
            " )                                                                                                \n",
            "                                                                                                  \n",
            " dropout_8 (Dropout)            (None, 30, 256)      0           ['bidirectional[0][0]']          \n",
            "                                                                                                  \n",
            " dropout_9 (Dropout)            (None, 30, 256)      0           ['bidirectional_1[0][0]']        \n",
            "                                                                                                  \n",
            " dense_14 (Dense)               (None, 30, 60)       15420       ['dropout_8[0][0]']              \n",
            "                                                                                                  \n",
            " dense_16 (Dense)               (None, 30, 60)       15420       ['dropout_9[0][0]']              \n",
            "                                                                                                  \n",
            " dense_15 (Dense)               (None, 30, 2)        122         ['dense_14[0][0]']               \n",
            "                                                                                                  \n",
            " dense_17 (Dense)               (None, 30, 2)        122         ['dense_16[0][0]']               \n",
            "                                                                                                  \n",
            " multiply_2 (Multiply)          (None, 30, 2)        0           ['dense_15[0][0]',               \n",
            "                                                                  'dense_17[0][0]']               \n",
            "                                                                                                  \n",
            " flatten_2 (Flatten)            (None, 60)           0           ['multiply_2[0][0]']             \n",
            "                                                                                                  \n",
            " dense_18 (Dense)               (None, 100)          6100        ['flatten_2[0][0]']              \n",
            "                                                                                                  \n",
            " dropout_10 (Dropout)           (None, 100)          0           ['dense_18[0][0]']               \n",
            "                                                                                                  \n",
            " dense_19 (Dense)               (None, 50)           5050        ['dropout_10[0][0]']             \n",
            "                                                                                                  \n",
            " dropout_11 (Dropout)           (None, 50)           0           ['dense_19[0][0]']               \n",
            "                                                                                                  \n",
            " dense_20 (Dense)               (None, 2)            102         ['dropout_11[0][0]']             \n",
            "                                                                                                  \n",
            "==================================================================================================\n",
            "Total params: 37,455,728\n",
            "Trainable params: 37,455,728\n",
            "Non-trainable params: 0\n",
            "__________________________________________________________________________________________________\n"
          ]
        }
      ]
    },
    {
      "cell_type": "code",
      "source": [
        "history2 = bi_model.fit([x_train_q1,x_train_q2],y_train,batch_size = 2000, epochs = 5)"
      ],
      "metadata": {
        "colab": {
          "base_uri": "https://localhost:8080/"
        },
        "id": "u9oPqSZ3Lvzn",
        "outputId": "919d396c-1b13-4a63-ccb0-922e9e14dbde"
      },
      "id": "u9oPqSZ3Lvzn",
      "execution_count": 33,
      "outputs": [
        {
          "output_type": "stream",
          "name": "stdout",
          "text": [
            "Epoch 1/5\n",
            "203/203 [==============================] - 33s 135ms/step - loss: 0.5675 - accuracy: 0.6963\n",
            "Epoch 2/5\n",
            "203/203 [==============================] - 29s 143ms/step - loss: 0.4761 - accuracy: 0.7709\n",
            "Epoch 3/5\n",
            "203/203 [==============================] - 29s 142ms/step - loss: 0.4273 - accuracy: 0.7996\n",
            "Epoch 4/5\n",
            "203/203 [==============================] - 28s 138ms/step - loss: 0.3808 - accuracy: 0.8247\n",
            "Epoch 5/5\n",
            "203/203 [==============================] - 29s 141ms/step - loss: 0.3369 - accuracy: 0.8474\n"
          ]
        }
      ]
    },
    {
      "cell_type": "code",
      "source": [
        "#predict model LSTM\n",
        "y1_predict = new_model.predict([x_test_q1, x_test_q2], batch_size = 2000, verbose = 1)\n"
      ],
      "metadata": {
        "colab": {
          "base_uri": "https://localhost:8080/"
        },
        "id": "aDj_Hf_tCU7s",
        "outputId": "0081887f-7f69-4d0f-a6a4-5405a0910884"
      },
      "id": "aDj_Hf_tCU7s",
      "execution_count": 34,
      "outputs": [
        {
          "output_type": "stream",
          "name": "stdout",
          "text": [
            "201/201 [==============================] - 5s 21ms/step\n"
          ]
        }
      ]
    },
    {
      "cell_type": "code",
      "source": [
        "#predict model BI-LSTM\n",
        "y2_predict = bi_model.predict([x_test_q1, x_test_q2], batch_size = 2000, verbose = 1)"
      ],
      "metadata": {
        "colab": {
          "base_uri": "https://localhost:8080/"
        },
        "id": "aX3mMUYhCslB",
        "outputId": "22927f67-6fec-475b-de83-a8497ba966ea"
      },
      "id": "aX3mMUYhCslB",
      "execution_count": 35,
      "outputs": [
        {
          "output_type": "stream",
          "name": "stdout",
          "text": [
            "201/201 [==============================] - 9s 40ms/step\n"
          ]
        }
      ]
    },
    {
      "cell_type": "code",
      "source": [
        "#reference: https://www.kaggle.com/code/ashishpandagre/quora-question-pairs-glove-lstm"
      ],
      "metadata": {
        "id": "405mJXY-BYod"
      },
      "id": "405mJXY-BYod",
      "execution_count": null,
      "outputs": []
    },
    {
      "cell_type": "markdown",
      "source": [
        "#Attention\n"
      ],
      "metadata": {
        "id": "8R2B7sFmotnn"
      },
      "id": "8R2B7sFmotnn"
    },
    {
      "cell_type": "code",
      "source": [
        "from tensorflow.keras.layers import Layer\n",
        "from tensorflow.keras import backend as K\n",
        "class attention(Layer):\n",
        "  def __init__(self,return_sequences = True):\n",
        "    self.return_sequences= return_sequences\n",
        "    super(attention,self).__init__()\n",
        "  \n",
        "  def build(self,input_shape):\n",
        "    self.W = self.add_weight(name = \"att_weight\",shape = (input_shape[-1],1),initializer = \"normal\")\n",
        "    self.b = self.add_weight(name = \"att_bias\", shape = (input_shape[1],1), initializer = \"normal\")\n",
        "    super(attention,self).build(input_shape)\n",
        "\n",
        "  def call(self,x):\n",
        "    e = K.tanh(K.dot(x,self.W) + self.b)\n",
        "    a = K.softmax(e, axis = 1)\n",
        "    output = x*a\n",
        "    if self.return_sequences:\n",
        "      return output\n",
        "      \n",
        "    return K.sum(output, axis = 1)\n",
        "\n",
        "\n",
        "\n"
      ],
      "metadata": {
        "id": "bxLwbiZiowtd"
      },
      "id": "bxLwbiZiowtd",
      "execution_count": 51,
      "outputs": []
    },
    {
      "cell_type": "code",
      "source": [
        "#LSTM attention\n",
        "from keras.layers import Attention\n",
        "#model for question1\n",
        "model2_q1 = tf.keras.Sequential()\n",
        "model2_q1.add(Embedding(input_dim = len(word_index)+1,\n",
        "                       output_dim = 200,\n",
        "                       weights = [embedding_matrix],\n",
        "                       input_length = 30))\n",
        "model2_q1.add(LSTM(128, activation = 'tanh', return_sequences = True))\n",
        "model2_q1.add(attention())\n",
        "model2_q1.add(Dropout(0.2))\n",
        "#model2_q1.add(LSTM(128,return_sequences = True))\n",
        "#model2_q1.add(LSTM(128))\n",
        "model2_q1.add(Dense(60,activation = 'tanh'))\n",
        "model2_q1.add(Dense(2,activation = 'sigmoid'))"
      ],
      "metadata": {
        "id": "r3FhH6qUCiKU"
      },
      "id": "r3FhH6qUCiKU",
      "execution_count": 52,
      "outputs": []
    },
    {
      "cell_type": "code",
      "source": [
        "#model for question 2\n",
        "model2_q2 = tf.keras.Sequential()\n",
        "model2_q2.add(Embedding(input_dim = len(word_index)+1,\n",
        "                       output_dim = 200,\n",
        "                       weights = [embedding_matrix],\n",
        "                       input_length = 30))\n",
        "model2_q2.add(LSTM(128, activation = 'tanh', return_sequences = True))\n",
        "model2_q2.add(attention())\n",
        "model2_q2.add(Dropout(0.2))\n",
        "#model2_q2.add(LSTM(128,return_sequences = True))\n",
        "#model2_q2.add(LSTM(128))\n",
        "model2_q2.add(Dense(60,activation = 'tanh'))\n",
        "model2_q2.add(Dense(2,activation = 'sigmoid'))"
      ],
      "metadata": {
        "id": "_Ng2qhuADjNS"
      },
      "id": "_Ng2qhuADjNS",
      "execution_count": 53,
      "outputs": []
    },
    {
      "cell_type": "code",
      "source": [
        "#merge output form model 1 and model 2\n",
        "merge_out3 = Multiply()([model2_q1.output,model2_q2.output])\n",
        "merge_out3 = Flatten()(merge_out3)\n",
        "merge_out3 = Dense(100,activation = 'relu')(merge_out3)\n",
        "merge_out3 = Dropout(0.2)(merge_out3)\n",
        "merge_out3 = Dense(50,activation = 'relu')(merge_out3)\n",
        "merge_out3 = Dropout(0.2)(merge_out3)\n",
        "merge_out3 = Dense(2,activation = 'sigmoid')(merge_out3)\n"
      ],
      "metadata": {
        "id": "Sri_RuLDD9Nq"
      },
      "id": "Sri_RuLDD9Nq",
      "execution_count": 54,
      "outputs": []
    },
    {
      "cell_type": "code",
      "source": [
        "at_model = Model([model2_q1.input,model2_q2.input],merge_out3)\n",
        "at_model.compile(optimizer = 'adam',\n",
        "                  loss = 'sparse_categorical_crossentropy',\n",
        "                  metrics = ['accuracy']\n",
        "                  )\n",
        "history2 = at_model.fit([x_train_q1,x_train_q2],y_train,batch_size = 2000, epochs = 5)"
      ],
      "metadata": {
        "id": "aRdUbOPNEIgb",
        "colab": {
          "base_uri": "https://localhost:8080/"
        },
        "outputId": "e50a2461-2c7d-4d70-88c2-48015443ff0f"
      },
      "id": "aRdUbOPNEIgb",
      "execution_count": 55,
      "outputs": [
        {
          "output_type": "stream",
          "name": "stdout",
          "text": [
            "Epoch 1/5\n",
            "203/203 [==============================] - 21s 82ms/step - loss: 0.5857 - accuracy: 0.6879\n",
            "Epoch 2/5\n",
            "203/203 [==============================] - 17s 82ms/step - loss: 0.4970 - accuracy: 0.7614\n",
            "Epoch 3/5\n",
            "203/203 [==============================] - 17s 82ms/step - loss: 0.4556 - accuracy: 0.7862\n",
            "Epoch 4/5\n",
            "203/203 [==============================] - 16s 81ms/step - loss: 0.4184 - accuracy: 0.8073\n",
            "Epoch 5/5\n",
            "203/203 [==============================] - 16s 81ms/step - loss: 0.3824 - accuracy: 0.8251\n"
          ]
        }
      ]
    },
    {
      "cell_type": "code",
      "source": [
        "#bidirectional attention\n",
        "#model for question1\n",
        "model3_q1 = tf.keras.Sequential()\n",
        "model3_q1.add(Embedding(input_dim = len(word_index)+1,\n",
        "                       output_dim = 200,\n",
        "                       weights = [embedding_matrix],\n",
        "                       input_length = 30))\n",
        "model3_q1.add(Bidirectional(LSTM(128, activation = 'tanh', return_sequences = True)))\n",
        "model2_q1.add(attention())\n",
        "model3_q1.add(Dropout(0.2))\n",
        "#model3_q1.add(Bidirectional(LSTM(128,return_sequences = True)))\n",
        "#model3_q1.add(Bidirectional(LSTM(128)))\n",
        "model3_q1.add(Dense(60,activation = 'tanh'))\n",
        "model3_q1.add(Dense(2,activation = 'sigmoid'))"
      ],
      "metadata": {
        "id": "d9w0FAoDEXIY"
      },
      "id": "d9w0FAoDEXIY",
      "execution_count": 56,
      "outputs": []
    },
    {
      "cell_type": "code",
      "source": [
        "#model for question2\n",
        "model3_q2 = tf.keras.Sequential()\n",
        "model3_q2.add(Embedding(input_dim = len(word_index)+1,\n",
        "                       output_dim = 200,\n",
        "                       weights = [embedding_matrix],\n",
        "                       input_length = 30))\n",
        "model3_q2.add(Bidirectional(LSTM(128, activation = 'tanh', return_sequences = True)))\n",
        "model3_q2.add(attention())\n",
        "model3_q2.add(Dropout(0.2))\n",
        "#model3_q2.add(Bidirectional(LSTM(128,return_sequences = True)))\n",
        "#model3_q2.add(Bidirectional(LSTM(128)))\n",
        "model3_q2.add(Dense(60,activation = 'tanh'))\n",
        "model3_q2.add(Dense(2,activation = 'sigmoid'))"
      ],
      "metadata": {
        "id": "hTFiMTS0Ednu"
      },
      "id": "hTFiMTS0Ednu",
      "execution_count": 57,
      "outputs": []
    },
    {
      "cell_type": "code",
      "source": [
        "#merge output form model 1 and model 2\n",
        "merge_out4 = Multiply()([model3_q1.output,model3_q2.output])\n",
        "merge_out4 = Flatten()(merge_out4)\n",
        "merge_out4 = Dense(100,activation = 'relu')(merge_out4)\n",
        "merge_out4 = Dropout(0.2)(merge_out4)\n",
        "merge_out4 = Dense(50,activation = 'relu')(merge_out4)\n",
        "merge_out4 = Dropout(0.2)(merge_out4)\n",
        "merge_out4 = Dense(2,activation = 'sigmoid')(merge_out4)"
      ],
      "metadata": {
        "id": "pfo9oWOzEsy6"
      },
      "id": "pfo9oWOzEsy6",
      "execution_count": 58,
      "outputs": []
    },
    {
      "cell_type": "code",
      "source": [
        "bi_at_model = Model([model3_q1.input,model3_q2.input],merge_out4)\n",
        "bi_at_model.compile(optimizer = 'adam',\n",
        "                  loss = 'sparse_categorical_crossentropy',\n",
        "                  metrics = ['accuracy']\n",
        "                  )\n",
        "history2 = bi_at_model.fit([x_train_q1,x_train_q2],y_train,batch_size = 2000, epochs = 5)"
      ],
      "metadata": {
        "id": "1iKeaavYE7sj",
        "colab": {
          "base_uri": "https://localhost:8080/"
        },
        "outputId": "49176bdd-6b22-44c3-ef72-c72bfb6991f3"
      },
      "id": "1iKeaavYE7sj",
      "execution_count": 60,
      "outputs": [
        {
          "output_type": "stream",
          "name": "stdout",
          "text": [
            "Epoch 1/5\n",
            "203/203 [==============================] - 34s 140ms/step - loss: 0.5656 - accuracy: 0.7062\n",
            "Epoch 2/5\n",
            "203/203 [==============================] - 29s 141ms/step - loss: 0.4848 - accuracy: 0.7653\n",
            "Epoch 3/5\n",
            "203/203 [==============================] - 28s 140ms/step - loss: 0.4360 - accuracy: 0.7940\n",
            "Epoch 4/5\n",
            "203/203 [==============================] - 28s 140ms/step - loss: 0.3891 - accuracy: 0.8190\n",
            "Epoch 5/5\n",
            "203/203 [==============================] - 29s 141ms/step - loss: 0.3439 - accuracy: 0.8425\n"
          ]
        }
      ]
    }
  ],
  "metadata": {
    "kernelspec": {
      "display_name": "Python 3 (ipykernel)",
      "language": "python",
      "name": "python3"
    },
    "language_info": {
      "codemirror_mode": {
        "name": "ipython",
        "version": 3
      },
      "file_extension": ".py",
      "mimetype": "text/x-python",
      "name": "python",
      "nbconvert_exporter": "python",
      "pygments_lexer": "ipython3",
      "version": "3.8.10"
    },
    "colab": {
      "provenance": []
    },
    "gpuClass": "standard",
    "accelerator": "GPU"
  },
  "nbformat": 4,
  "nbformat_minor": 5
}